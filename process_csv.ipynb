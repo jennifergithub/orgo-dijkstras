{
 "cells": [
  {
   "cell_type": "code",
   "execution_count": 11,
   "metadata": {},
   "outputs": [
    {
     "data": {
      "text/plain": [
       "[('Acid chloride', '1° Alcohol', 'LAH, H2O'),\n",
       " ('Acid chloride', 'Cuprate', 'Ketone'),\n",
       " ('Acid chloride', '3° Alcohol', 'Cuprate'),\n",
       " ('Acid chloride', 'Acyl azide', 'NaN3'),\n",
       " ('Acid chloride', '1° Amide', 'NH3'),\n",
       " ('Acid chloride', '3° Amide', 'R2NH'),\n",
       " ('Acid chloride', '2° Amide', 'RNH2'),\n",
       " ('Acid chloride', 'Carboxylic acid', 'H2O, py'),\n",
       " ('Acid chloride', 'Aldehyde', 'LiAlH(tBuO)3, H3O+'),\n",
       " ('Acid chloride', 'Ester', '1° Alcohol'),\n",
       " ('Acid chloride', 'Ester', '2° Alcohol'),\n",
       " ('Acid chloride', 'Ester', '3° Alcohol'),\n",
       " ('Aldehyde', 'Carboxylic acid', 'Ag2O'),\n",
       " ('Aldehyde', 'Carboxylic acid', 'MCPBA'),\n",
       " ('Aldehyde', 'Cyanohydrin', 'HCN'),\n",
       " ('Ester', 'Aldehyde', 'DIBAL-H, H3O+'),\n",
       " ('Ester', 'Carboxylic acid', 'aq. Acid or base'),\n",
       " ('Ester', '1° Alcohol', 'LAH, H2O'),\n",
       " ('Anhydride', 'Carboxylic acid', 'H2O, py'),\n",
       " ('Anhydride', '1° Amide', 'NH3'),\n",
       " ('Anhydride', '3° Amide', 'R2NH'),\n",
       " ('Anhydride', '2° Amide', 'RNH2'),\n",
       " ('Anhydride', 'Ester', '1° Alcohol'),\n",
       " ('Anhydride', 'Ester', '2° Alcohol'),\n",
       " ('Anhydride', 'Ester', '3° Alcohol'),\n",
       " ('Anhydride', '1° Amide', 'NH3'),\n",
       " ('Anhydride', '3° Amide', 'R2NH'),\n",
       " ('Anhydride', '2° Amide', 'RNH2')]"
      ]
     },
     "execution_count": 11,
     "metadata": {},
     "output_type": "execute_result"
    }
   ],
   "source": [
    "import csv\n",
    "edges = []\n",
    "with open('reaction_map.csv', newline='') as csvfile:\n",
    "    reader = csv.DictReader(csvfile)\n",
    "    for row in reader:\n",
    "        # print(row)\n",
    "        source_target_label = tuple((row['\\ufeffSource'], row['End'], row['Label']))\n",
    "        edges.append(source_target_label)\n",
    "edges"
   ]
  },
  {
   "cell_type": "code",
   "execution_count": null,
   "metadata": {},
   "outputs": [],
   "source": []
  }
 ],
 "metadata": {
  "kernelspec": {
   "display_name": "Python 3.10.4 64-bit",
   "language": "python",
   "name": "python3"
  },
  "language_info": {
   "codemirror_mode": {
    "name": "ipython",
    "version": 3
   },
   "file_extension": ".py",
   "mimetype": "text/x-python",
   "name": "python",
   "nbconvert_exporter": "python",
   "pygments_lexer": "ipython3",
   "version": "3.10.4"
  },
  "orig_nbformat": 4,
  "vscode": {
   "interpreter": {
    "hash": "aee8b7b246df8f9039afb4144a1f6fd8d2ca17a180786b69acc140d282b71a49"
   }
  }
 },
 "nbformat": 4,
 "nbformat_minor": 2
}
